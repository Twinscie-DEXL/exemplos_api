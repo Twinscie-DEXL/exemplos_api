{
 "cells": [
  {
   "attachments": {},
   "cell_type": "markdown",
   "metadata": {},
   "source": [
    "## Exemplo de Acesso à API do Twinscie"
   ]
  },
  {
   "attachments": {},
   "cell_type": "markdown",
   "metadata": {},
   "source": [
    "Este notebook descreve o processo de acesso à API do Twinscie utilizando a linguagem `Python`, por meio da biblioteca [requests](https://requests.readthedocs.io/en/latest/).\n",
    "\n",
    "A sequência de operações descritas abaixo possui como objetivo demonstrar o processo \n",
    "de inferência do NeMo através da API, o qual envolve o cadastro de metadados (domínio, projeto, learner_family, execution_environment), bem como o upload de datasets, dataset_processors e models.\n",
    "\n",
    "A documentação completa da API, gerada pelo framework Swagger, pode ser consultada em http://localhost:8080/api/swagger-ui.\n",
    "\n",
    "A imagem abaixo ilustra um exemplo da sequência de chamadas à API visando a execução de um processo de predição:\n",
    "\n",
    "![Example Image](api_prediction_flow.jpg)<!---fig:figure1--->"
   ]
  },
  {
   "attachments": {},
   "cell_type": "markdown",
   "metadata": {},
   "source": [
    "### Importação das bibliotecas necessárias\n",
    "\n",
    "As requisições HTTP à API serão realizadas por meio da biblioteca [requests](https://requests.readthedocs.io/en/latest/). Dessa forma, o primeiro passo é a importação desta biblioteca. Além disso, é necessário importar a biblioteca getpass para anonimização do password de usuário utilizado na autenticação (quando cabível)."
   ]
  },
  {
   "cell_type": "code",
   "execution_count": null,
   "metadata": {},
   "outputs": [],
   "source": [
    "import requests\n",
    "import getpass"
   ]
  },
  {
   "attachments": {},
   "cell_type": "markdown",
   "metadata": {},
   "source": [
    "### Definição da URL e da informação de autenticação\n",
    "\n",
    "Para realizar as requisições, é necessário antes definir a URL onde a API encontra-se hospedada.\n",
    "Além disso, para casos onde as requisições são realizadas para o ambiente de homologação e testes \n",
    "hospedado no LNCC (https://intelipetro-gypscie.lncc.br/), é necessário definir usuário e senha para autenticação.\n",
    "Caso você não possua credenciais de acesso, basta solicitá-las à equipe de desenvolvimento do Twinscie."
   ]
  },
  {
   "cell_type": "code",
   "execution_count": null,
   "metadata": {},
   "outputs": [],
   "source": [
    "# Ambiente local\n",
    "URL = \"http://localhost:8080/api/\""
   ]
  },
  {
   "cell_type": "code",
   "execution_count": null,
   "metadata": {},
   "outputs": [],
   "source": [
    "# Ambiente de homologação no LNCC\n",
    "ULR = \"https://intelipetro-gypscie.lncc.br/api/\""
   ]
  },
  {
   "cell_type": "code",
   "execution_count": null,
   "metadata": {},
   "outputs": [],
   "source": [
    "USER = input(\"Usuário: \")\n",
    "PASSWORD = getpass.getpass(\"Senha: \")"
   ]
  },
  {
   "attachments": {},
   "cell_type": "markdown",
   "metadata": {},
   "source": [
    "## Preparação do Ambiente\n",
    "\n",
    "Como demonstrado na figura abaixo, é necessário cadastrar um conjunto de metadados gerenciados \n",
    "pelo Twinscie (Domain, Project e ExecutionEnvironment) e que serão necessários em etapas posteriores do processo de predição.\n",
    "\n",
    "![Example Image](environment_prep.jpg)"
   ]
  },
  {
   "attachments": {},
   "cell_type": "markdown",
   "metadata": {},
   "source": [
    "### Cadastro de *Domain*"
   ]
  },
  {
   "cell_type": "code",
   "execution_count": null,
   "metadata": {},
   "outputs": [],
   "source": [
    "# Requisição de cadastro de Domain\n",
    "response = requests.post(\n",
    "    url=URL + \"domains\",\n",
    "    json={\n",
    "        \"name\": \"domain 1\",\n",
    "        \"description\": \"domain 1 description\"\n",
    "    },\n",
    "    auth=(USER, PASSWORD)\n",
    ")"
   ]
  },
  {
   "cell_type": "code",
   "execution_count": null,
   "metadata": {},
   "outputs": [],
   "source": [
    "# Verificando o status_code retornado pela API\n",
    "response.status_code"
   ]
  },
  {
   "cell_type": "code",
   "execution_count": null,
   "metadata": {},
   "outputs": [],
   "source": [
    "# Verificando a resposta retornada à requisição\n",
    "response.json()"
   ]
  },
  {
   "attachments": {},
   "cell_type": "markdown",
   "metadata": {},
   "source": [
    "### Cadastro de *Project*"
   ]
  },
  {
   "cell_type": "code",
   "execution_count": null,
   "metadata": {},
   "outputs": [],
   "source": [
    "# Requisição de cadastro de Project\n",
    "response = requests.post(\n",
    "    url=URL + \"projects\",\n",
    "    json={\n",
    "    \"name\": \"project_1\",\n",
    "    \"description\": \"project 1 description\",\n",
    "    \"domain_id\": 1\n",
    "    }\n",
    ")"
   ]
  },
  {
   "cell_type": "code",
   "execution_count": null,
   "metadata": {},
   "outputs": [],
   "source": [
    "# Verificando o status_code retornado pela API\n",
    "response.status_code"
   ]
  },
  {
   "cell_type": "code",
   "execution_count": null,
   "metadata": {},
   "outputs": [],
   "source": [
    "# Verificando a resposta retornada à requisição\n",
    "response.json()"
   ]
  },
  {
   "attachments": {},
   "cell_type": "markdown",
   "metadata": {},
   "source": [
    "### Cadastro de *ExecutionEnvironment*"
   ]
  },
  {
   "cell_type": "code",
   "execution_count": null,
   "metadata": {},
   "outputs": [],
   "source": [
    "# Requisição de cadastro de ExecutionEnvironment (ambiente local)\n",
    "response = requests.post(\n",
    "    url = URL + \"execution_environments\",\n",
    "    json = {\n",
    "        \"name\": \"environment_1\",\n",
    "        \"uri\": \"localhost\",\n",
    "        \"arguments\": {},\n",
    "        \"port\": 50052,\n",
    "        \n",
    "    },\n",
    ")"
   ]
  },
  {
   "cell_type": "code",
   "execution_count": null,
   "metadata": {},
   "outputs": [],
   "source": [
    "# Requisição de cadastro de ExecutionEnvironment (ambiente de homologação no LNCC)\n",
    "response = requests.post(\n",
    "    url = URL + \"execution_environments\",\n",
    "    json = {\n",
    "        \"name\": \"environment_1\",\n",
    "        \"uri\": \"modelserver\",\n",
    "        \"arguments\": {},\n",
    "        \"port\": 50052,\n",
    "        \n",
    "    },\n",
    ")"
   ]
  },
  {
   "cell_type": "code",
   "execution_count": null,
   "metadata": {},
   "outputs": [],
   "source": [
    "# Verificando o status_code retornado pela API\n",
    "response.status_code"
   ]
  },
  {
   "cell_type": "code",
   "execution_count": null,
   "metadata": {},
   "outputs": [],
   "source": [
    "# Verificando a resposta retornada à requisição\n",
    "response.json()"
   ]
  },
  {
   "attachments": {},
   "cell_type": "markdown",
   "metadata": {},
   "source": [
    "## Pré-processamento dos dados\n",
    "\n",
    "Outro funcionalidade disponibilizada pelo Twinscie é a possibilidade de pré-processamento dos dados de modo a \n",
    "prepará-los para o processo de predição. Para tanto, é necessário que o(s) dataset(s) utilizados no processo sejam \n",
    "cadastrados, bem como o artefato denominado DatasetProcessor. A figura abaixo ilustra esse processo.\n",
    "\n",
    "![Example Figure](dataset_processor.jpg)"
   ]
  },
  {
   "attachments": {},
   "cell_type": "markdown",
   "metadata": {},
   "source": [
    "### Cadastro de *Datasets*"
   ]
  },
  {
   "attachments": {},
   "cell_type": "markdown",
   "metadata": {},
   "source": [
    "##### Adicionando arquivo monk.pos"
   ]
  },
  {
   "cell_type": "code",
   "execution_count": null,
   "metadata": {},
   "outputs": [],
   "source": [
    "# Requisição de cadastro e upload de um Dataset\n",
    "response = requests.post(\n",
    "    url = URL + \"datasets\",\n",
    "    data = {\n",
    "        \"name\": \"nemo_pos\",\n",
    "        \"domain_id\": 1,\n",
    "    },\n",
    "    files = {\n",
    "        \"files\": open(file=\"monk.pos\", mode=\"rb\"),\n",
    "    }\n",
    ")"
   ]
  },
  {
   "cell_type": "code",
   "execution_count": null,
   "metadata": {},
   "outputs": [],
   "source": [
    "# Verificando o status_code retornado pela API\n",
    "response.status_code"
   ]
  },
  {
   "cell_type": "code",
   "execution_count": null,
   "metadata": {},
   "outputs": [],
   "source": [
    "# Verificando a resposta retornada à requisição\n",
    "response.json()"
   ]
  },
  {
   "attachments": {},
   "cell_type": "markdown",
   "metadata": {},
   "source": [
    "##### Adicionando arquivo monk.mot"
   ]
  },
  {
   "cell_type": "code",
   "execution_count": null,
   "metadata": {},
   "outputs": [],
   "source": [
    "# Requisição de cadastro e upload de um Dataset\n",
    "response = requests.post(\n",
    "    url = URL + \"datasets\",\n",
    "    data = {\n",
    "        \"name\": \"nemo_mot\",\n",
    "        \"domain_id\": 1,\n",
    "    },\n",
    "    files = {\n",
    "        \"files\": open(file=\"monk.mot\", mode=\"rb\"),\n",
    "    }\n",
    ")"
   ]
  },
  {
   "cell_type": "code",
   "execution_count": null,
   "metadata": {},
   "outputs": [],
   "source": [
    "# Verificando o status_code retornado pela API\n",
    "response.status_code"
   ]
  },
  {
   "cell_type": "code",
   "execution_count": null,
   "metadata": {},
   "outputs": [],
   "source": [
    "# Verificando a resposta retornada à requisição\n",
    "response.json()"
   ]
  },
  {
   "attachments": {},
   "cell_type": "markdown",
   "metadata": {},
   "source": [
    "### Cadastro de *DatasetProcessor*"
   ]
  },
  {
   "cell_type": "code",
   "execution_count": null,
   "metadata": {},
   "outputs": [],
   "source": [
    "# Requisição de cadastro e upload de um DatasetProcessor\n",
    "response = requests.post(\n",
    "    url = URL + \"dataset_processors\",\n",
    "    data = {\n",
    "        \"name\": \"nemo_processor\",\n",
    "        \"description\":  \"nemo_processor description\",\n",
    "        \"input_arity\":  \"many\",\n",
    "        \"output_arity\": \"one\",\n",
    "        \"processor_type\": \"transformer\"\n",
    "    },\n",
    "    files = {\n",
    "        \"files\": open(file=\"nemo_dataset_processor.zip\", mode=\"rb\"),\n",
    "    }\n",
    ")"
   ]
  },
  {
   "cell_type": "code",
   "execution_count": null,
   "metadata": {},
   "outputs": [],
   "source": [
    "# Verificando o status_code retornado pela API\n",
    "response.status_code"
   ]
  },
  {
   "cell_type": "code",
   "execution_count": null,
   "metadata": {},
   "outputs": [],
   "source": [
    "# Verificando a resposta retornada à requisição\n",
    "response.json()"
   ]
  },
  {
   "attachments": {},
   "cell_type": "markdown",
   "metadata": {},
   "source": [
    "###  Execução do *DatasetProcessor*"
   ]
  },
  {
   "attachments": {},
   "cell_type": "markdown",
   "metadata": {},
   "source": [
    "Todos os processos de execução no Twinscie são caracterizados por serem assíncronos. O resultado prático desta \n",
    "característica é que as requisições para execução retornam uma `task_id`, a qual pode ser utilizada para verificar o \n",
    "status de execução da tarefa, bem como os ids dos datasets gerados ao final da execução (caso seja bem sucedida)."
   ]
  },
  {
   "cell_type": "code",
   "execution_count": null,
   "metadata": {},
   "outputs": [],
   "source": [
    "# Requisição de execução de um DatasetProcessor\n",
    "response = requests.post(\n",
    "    url = URL + \"processor_run\",\n",
    "    json = {\n",
    "        \"processor_id\": 1,\n",
    "        \"dataset_id\": [1,2],\n",
    "        \"environment_id\": 1,\n",
    "        \"parameters\": {},\n",
    "        \"project_id\": 1\n",
    "    }\n",
    ")"
   ]
  },
  {
   "cell_type": "code",
   "execution_count": null,
   "metadata": {},
   "outputs": [],
   "source": [
    "# Verificando o status_code retornado pela API\n",
    "response.status_code"
   ]
  },
  {
   "cell_type": "code",
   "execution_count": null,
   "metadata": {},
   "outputs": [],
   "source": [
    "# Verificando a resposta retornada à requisição\n",
    "response.json()"
   ]
  },
  {
   "cell_type": "code",
   "execution_count": null,
   "metadata": {},
   "outputs": [],
   "source": [
    "task_id = response.json().get('task_id')"
   ]
  },
  {
   "cell_type": "code",
   "execution_count": null,
   "metadata": {},
   "outputs": [],
   "source": [
    "task_id"
   ]
  },
  {
   "attachments": {},
   "cell_type": "markdown",
   "metadata": {},
   "source": [
    "### Monitorando status de execução do *DatasetProcessor*"
   ]
  },
  {
   "cell_type": "code",
   "execution_count": null,
   "metadata": {},
   "outputs": [],
   "source": [
    "# Requisição para verificação do status de execução de um DatasetProcessor\n",
    "response = requests.get(\n",
    "    url = URL + \"status_processor_run/\" + task_id,\n",
    ")"
   ]
  },
  {
   "cell_type": "code",
   "execution_count": null,
   "metadata": {},
   "outputs": [],
   "source": [
    "# Verificando a resposta retornada à requisição\n",
    "response.json()"
   ]
  },
  {
   "attachments": {},
   "cell_type": "markdown",
   "metadata": {},
   "source": [
    "## Execução da Predição\n",
    "\n",
    "O último conjunto de operações, apresentado na figura abaixo, envolve o cadastro de uma *LearnerFamily*, a importação do modelo serializado do NeMo e a execução deste modelo, utilizando como entrada o *dataset* gerado pela execução do \n",
    "*DatasetProcessor*.\n",
    "\n",
    "![Figure](prediction.jpg)"
   ]
  },
  {
   "attachments": {},
   "cell_type": "markdown",
   "metadata": {},
   "source": [
    "### Cadastro de uma *LearnerFamily*"
   ]
  },
  {
   "cell_type": "code",
   "execution_count": null,
   "metadata": {},
   "outputs": [],
   "source": [
    "# Requisição para o cadastro de uma LearnerFamily\n",
    "response = requests.post(\n",
    "    url = URL + \"learner_families\",\n",
    "    json = {\n",
    "        \"name\": \"learner_family_1\",\n",
    "        \"description\": \"learner_family_1 description\"\n",
    "    }\n",
    ")"
   ]
  },
  {
   "cell_type": "code",
   "execution_count": null,
   "metadata": {},
   "outputs": [],
   "source": [
    "# Verificando a resposta retornada à requisição\n",
    "response.status_code"
   ]
  },
  {
   "cell_type": "code",
   "execution_count": null,
   "metadata": {},
   "outputs": [],
   "source": [
    "# Verificando a resposta retornada à requisição\n",
    "response.json()"
   ]
  },
  {
   "attachments": {},
   "cell_type": "markdown",
   "metadata": {},
   "source": [
    "### Importação do *Model*"
   ]
  },
  {
   "cell_type": "code",
   "execution_count": null,
   "metadata": {},
   "outputs": [],
   "source": [
    "# Requisição para o cadastro e importação do modelo\n",
    "response = requests.post(\n",
    "    url = URL + \"models\",\n",
    "    data = {\n",
    "        \"name\": \"nemo\",\n",
    "        \"description\":  \"nemo description\",\n",
    "        \"supervision_scope\":  \"supervised\",\n",
    "        \"task_type\": \"regression\",\n",
    "        \"tool\": \"keras\",\n",
    "        \"learner_family_id\": 1\n",
    "    },\n",
    "    files = {\n",
    "    \"files\": open(file=\"model.h5\", mode=\"rb\"), # O model.h5 não está sendo versionado devido ao seu tamanho (~700MB)\n",
    "    },\n",
    ")"
   ]
  },
  {
   "cell_type": "code",
   "execution_count": null,
   "metadata": {},
   "outputs": [],
   "source": [
    "# Verificando a resposta retornada à requisição\n",
    "response.status_code"
   ]
  },
  {
   "cell_type": "code",
   "execution_count": null,
   "metadata": {},
   "outputs": [],
   "source": [
    "# Verificando a resposta retornada à requisição\n",
    "response.json()"
   ]
  },
  {
   "attachments": {},
   "cell_type": "markdown",
   "metadata": {},
   "source": [
    "### Execução da Predição\n",
    "\n",
    "Por se tratar de uma execução, o processo de predição retorna uma `task_id`, a qual pode ser utilizada para verificar o status de execução da tarefa, bem como os ids dos datasets gerados ao final da execução (caso seja bem sucedida)."
   ]
  },
  {
   "cell_type": "code",
   "execution_count": null,
   "metadata": {},
   "outputs": [],
   "source": [
    "# Requisição de execução de um processo de Predição\n",
    "response = requests.post(\n",
    "    url = URL + \"predict\",\n",
    "    json = {\n",
    "        \"model_id\": 1,\n",
    "        \"dataset_id\": 3,\n",
    "        \"parameters\": {},\n",
    "        \"project_id\": 1\n",
    "    }\n",
    ")"
   ]
  },
  {
   "cell_type": "code",
   "execution_count": null,
   "metadata": {},
   "outputs": [],
   "source": [
    "# Verificando a resposta retornada à requisição\n",
    "response.status_code"
   ]
  },
  {
   "cell_type": "code",
   "execution_count": null,
   "metadata": {},
   "outputs": [],
   "source": [
    "# Verificando a resposta retornada à requisição\n",
    "response.json()"
   ]
  },
  {
   "cell_type": "code",
   "execution_count": null,
   "metadata": {},
   "outputs": [],
   "source": [
    "task_id = response.json().get('task_id')"
   ]
  },
  {
   "cell_type": "code",
   "execution_count": null,
   "metadata": {},
   "outputs": [],
   "source": [
    "task_id"
   ]
  },
  {
   "attachments": {},
   "cell_type": "markdown",
   "metadata": {},
   "source": [
    "### Monitorando status de execução da Predição"
   ]
  },
  {
   "cell_type": "code",
   "execution_count": null,
   "metadata": {},
   "outputs": [],
   "source": [
    "response = requests.get(\n",
    "    url = URL + \"status_predict/\" + task_id,\n",
    ")"
   ]
  },
  {
   "cell_type": "code",
   "execution_count": null,
   "metadata": {},
   "outputs": [],
   "source": [
    "response.json()"
   ]
  },
  {
   "attachments": {},
   "cell_type": "markdown",
   "metadata": {},
   "source": [
    "### Verificando *Dataset* de saída"
   ]
  },
  {
   "cell_type": "code",
   "execution_count": null,
   "metadata": {},
   "outputs": [],
   "source": [
    "response = requests.get(\n",
    "    url = URL + \"datasets/\" + \"<dataset_id>\"\n",
    ")"
   ]
  },
  {
   "cell_type": "code",
   "execution_count": null,
   "metadata": {},
   "outputs": [],
   "source": [
    "response.json()"
   ]
  }
 ],
 "metadata": {
  "kernelspec": {
   "display_name": "twinscie_core",
   "language": "python",
   "name": "python3"
  },
  "language_info": {
   "codemirror_mode": {
    "name": "ipython",
    "version": 3
   },
   "file_extension": ".py",
   "mimetype": "text/x-python",
   "name": "python",
   "nbconvert_exporter": "python",
   "pygments_lexer": "ipython3",
   "version": "3.10.6"
  },
  "orig_nbformat": 4
 },
 "nbformat": 4,
 "nbformat_minor": 2
}
